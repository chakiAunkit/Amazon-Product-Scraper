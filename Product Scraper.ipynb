{
 "cells": [
  {
   "cell_type": "markdown",
   "id": "e34221dc",
   "metadata": {},
   "source": [
    "## Amazon Web Scraper"
   ]
  },
  {
   "cell_type": "code",
   "execution_count": 1,
   "id": "54a2bb41",
   "metadata": {},
   "outputs": [],
   "source": [
    "#Installing Libraries\n",
    "\n",
    "import csv\n",
    "from bs4 import BeautifulSoup\n",
    "\n",
    "from msedge.selenium_tools import Edge, EdgeOptions\n",
    "from selenium import webdriver"
   ]
  },
  {
   "cell_type": "code",
   "execution_count": 2,
   "id": "b344acfc",
   "metadata": {},
   "outputs": [],
   "source": [
    "options = EdgeOptions()\n",
    "options.use_chromium = True\n",
    "driver = webdriver.Edge(executable_path = r'C:\\Program Files (x86)\\Microsoft\\Edge Webdriver\\msedgedriver.exe')"
   ]
  },
  {
   "cell_type": "code",
   "execution_count": 3,
   "id": "14448c67",
   "metadata": {},
   "outputs": [],
   "source": [
    "url = \"https://www.amazon.in\"\n",
    "\n",
    "driver.get(url)"
   ]
  },
  {
   "cell_type": "code",
   "execution_count": 55,
   "id": "a27f29de",
   "metadata": {},
   "outputs": [],
   "source": [
    "def get_url(search_term):\n",
    "    template = 'https://www.amazon.in/s?k={}&crid=AWC66IMNQMNW&sprefix={}%2Caps%2C238&ref=nb_sb_noss'\n",
    "    search_term = search_term.replace(' ', '+')\n",
    "    return f'https://www.amazon.in/s?k={search_term}&crid=AWC66IMNQMNW&sprefix={search_term}%2Caps%2C238&ref=nb_sb_noss'"
   ]
  },
  {
   "cell_type": "code",
   "execution_count": 57,
   "id": "fb9d8234",
   "metadata": {},
   "outputs": [
    {
     "name": "stdout",
     "output_type": "stream",
     "text": [
      "https://www.amazon.in/s?k=wireless+headphones&crid=AWC66IMNQMNW&sprefix=wireless+headphones%2Caps%2C238&ref=nb_sb_noss\n"
     ]
    }
   ],
   "source": [
    "url = get_url('wireless headphones')\n",
    "print(url)"
   ]
  },
  {
   "cell_type": "code",
   "execution_count": 6,
   "id": "dd9a4e73",
   "metadata": {},
   "outputs": [],
   "source": [
    "driver.get(url)"
   ]
  },
  {
   "cell_type": "markdown",
   "id": "e46ce5c4",
   "metadata": {},
   "source": [
    "## Extracting page source"
   ]
  },
  {
   "cell_type": "code",
   "execution_count": 7,
   "id": "8de2b3a4",
   "metadata": {},
   "outputs": [],
   "source": [
    "soup = BeautifulSoup(driver.page_source, 'html.parser')"
   ]
  },
  {
   "cell_type": "code",
   "execution_count": 8,
   "id": "31d044ec",
   "metadata": {},
   "outputs": [],
   "source": [
    "results = soup.find_all('div', {'data-component-type': 's-search-result'})"
   ]
  },
  {
   "cell_type": "code",
   "execution_count": 9,
   "id": "b9bfbba6",
   "metadata": {},
   "outputs": [
    {
     "name": "stdout",
     "output_type": "stream",
     "text": [
      "22\n"
     ]
    }
   ],
   "source": [
    "print(len(results))"
   ]
  },
  {
   "cell_type": "markdown",
   "id": "27ef3619",
   "metadata": {},
   "source": [
    "## Prototype the record"
   ]
  },
  {
   "cell_type": "code",
   "execution_count": 10,
   "id": "e012ef4f",
   "metadata": {},
   "outputs": [],
   "source": [
    "item = results[0]"
   ]
  },
  {
   "cell_type": "code",
   "execution_count": 11,
   "id": "a9d61386",
   "metadata": {},
   "outputs": [],
   "source": [
    "atag = item.h2.a"
   ]
  },
  {
   "cell_type": "code",
   "execution_count": 16,
   "id": "6194d7e4",
   "metadata": {},
   "outputs": [],
   "source": [
    "description = atag.text.strip()"
   ]
  },
  {
   "cell_type": "code",
   "execution_count": 20,
   "id": "7d89af43",
   "metadata": {},
   "outputs": [],
   "source": [
    "url = 'https://www.amazon.in'+ atag.get('href')"
   ]
  },
  {
   "cell_type": "code",
   "execution_count": 22,
   "id": "31cb356e",
   "metadata": {},
   "outputs": [
    {
     "name": "stdout",
     "output_type": "stream",
     "text": [
      "https://www.amazon.in/gp/slredirect/picassoRedirect.html/ref=pa_sp_atf_aps_sr_pg1_1?ie=UTF8&adId=A02041603KLJT5SRJTC2I&url=%2FBoat-Rockerz-550-Headphone-Aesthetics%2Fdp%2FB0856HY85J%2Fref%3Dsr_1_1_sspa%3Fcrid%3DAWC66IMNQMNW%26keywords%3Dwireless%2Bheadphones%26qid%3D1641733878%26sprefix%3Dwireless%2Bheadphones%252Caps%252C238%26sr%3D8-1-spons%26psc%3D1&qualifier=1641733878&id=7434389333570517&widgetName=sp_atf\n"
     ]
    }
   ],
   "source": [
    "print(url)"
   ]
  },
  {
   "cell_type": "code",
   "execution_count": 32,
   "id": "cec101cf",
   "metadata": {},
   "outputs": [],
   "source": [
    "parent_price = item.find('span', 'a-price')"
   ]
  },
  {
   "cell_type": "code",
   "execution_count": 34,
   "id": "5dca5420",
   "metadata": {},
   "outputs": [],
   "source": [
    "price = parent_price.find('span', 'a-offscreen').text"
   ]
  },
  {
   "cell_type": "code",
   "execution_count": 37,
   "id": "93872f52",
   "metadata": {},
   "outputs": [],
   "source": [
    "rating = item.i.text"
   ]
  },
  {
   "cell_type": "code",
   "execution_count": 42,
   "id": "fce8ade8",
   "metadata": {},
   "outputs": [],
   "source": [
    "review_count = item.find('span', 'a-size-base').text"
   ]
  },
  {
   "cell_type": "markdown",
   "id": "6ad37db5",
   "metadata": {},
   "source": [
    "## Generalizing the pattern"
   ]
  },
  {
   "cell_type": "code",
   "execution_count": 44,
   "id": "864b1452",
   "metadata": {},
   "outputs": [],
   "source": [
    "def extract_info(item):\n",
    "    \n",
    "    atag = item.h2.a\n",
    "    description = atag.text.strip()\n",
    "    url = 'https://www.amazon.in'+ atag.get('href')\n",
    "    \n",
    "    try:\n",
    "        parent_price = item.find('span', 'a-price')\n",
    "        price = parent_price.find('span', 'a-offscreen').text\n",
    "    except AttributeError:\n",
    "        price = 'Not Available'\n",
    "    \n",
    "    try:\n",
    "        rating = item.i.text\n",
    "        review_count = item.find('span', 'a-size-base').text\n",
    "    except AttributeError:\n",
    "        rating = ''\n",
    "        review_count = ''\n",
    "    \n",
    "    result = (description, price, rating, review_count, url)\n",
    "    \n",
    "    return result"
   ]
  },
  {
   "cell_type": "code",
   "execution_count": 45,
   "id": "096a04a6",
   "metadata": {},
   "outputs": [],
   "source": [
    "records = []\n",
    "results = soup.find_all('div', {'data-component-type': 's-search-result'})\n",
    "\n",
    "for item in results:\n",
    "    record = extract_info(item)\n",
    "    if record:\n",
    "        records.append(record)"
   ]
  },
  {
   "cell_type": "code",
   "execution_count": 47,
   "id": "d6e675ee",
   "metadata": {},
   "outputs": [
    {
     "data": {
      "text/plain": [
       "('boAt Rockerz 550 Bluetooth Wireless Over Ear Headphone with Mic (Black)',\n",
       " '₹1,899',\n",
       " '4.1 out of 5 stars',\n",
       " '34,840',\n",
       " 'https://www.amazon.in/gp/slredirect/picassoRedirect.html/ref=pa_sp_atf_aps_sr_pg1_1?ie=UTF8&adId=A02041603KLJT5SRJTC2I&url=%2FBoat-Rockerz-550-Headphone-Aesthetics%2Fdp%2FB0856HY85J%2Fref%3Dsr_1_1_sspa%3Fcrid%3DAWC66IMNQMNW%26keywords%3Dwireless%2Bheadphones%26qid%3D1641733878%26sprefix%3Dwireless%2Bheadphones%252Caps%252C238%26sr%3D8-1-spons%26psc%3D1&qualifier=1641733878&id=7434389333570517&widgetName=sp_atf')"
      ]
     },
     "execution_count": 47,
     "metadata": {},
     "output_type": "execute_result"
    }
   ],
   "source": [
    "records[0]"
   ]
  },
  {
   "cell_type": "code",
   "execution_count": 50,
   "id": "580bae6f",
   "metadata": {},
   "outputs": [
    {
     "name": "stdout",
     "output_type": "stream",
     "text": [
      "₹1,899\n",
      "₹2,419\n",
      "₹999\n",
      "₹990\n",
      "₹999\n",
      "₹1,299\n",
      "₹999\n",
      "₹1,899\n",
      "₹599\n",
      "₹798\n",
      "₹16,990\n",
      "₹999\n",
      "₹749\n",
      "₹1,599\n",
      "₹999\n",
      "₹999\n",
      "₹1,299\n",
      "₹799\n",
      "₹1,499\n",
      "₹1,999\n",
      "₹1,299\n",
      "₹999\n"
     ]
    }
   ],
   "source": [
    "for row in records:\n",
    "    print(row[1])"
   ]
  },
  {
   "cell_type": "markdown",
   "id": "5515a862",
   "metadata": {},
   "source": [
    "## Getting to the next page"
   ]
  },
  {
   "cell_type": "code",
   "execution_count": 58,
   "id": "f5e7dbf8",
   "metadata": {},
   "outputs": [],
   "source": [
    "def get_url(search_term):\n",
    "    template = 'https://www.amazon.in/s?k=wireless+headphones&crid=AWC66IMNQMNW&sprefix=wireless+headphones%2Caps%2C238&ref=nb_sb_noss'\n",
    "    search_term = search_term.replace(' ', '+')\n",
    "    template.format(search_term)\n",
    "    url += '&page={}'\n",
    "    return url"
   ]
  },
  {
   "cell_type": "markdown",
   "id": "c1f4e4ab",
   "metadata": {},
   "source": [
    "## Putting everything together"
   ]
  },
  {
   "cell_type": "code",
   "execution_count": 64,
   "id": "62a78d28",
   "metadata": {},
   "outputs": [],
   "source": [
    "import csv\n",
    "from bs4 import BeautifulSoup\n",
    "\n",
    "from msedge.selenium_tools import Edge, EdgeOptions\n",
    "from selenium import webdriver\n",
    "\n",
    "\n",
    "def get_url(search_term):\n",
    "    \n",
    "    template = 'https://www.amazon.in/s?k={}&crid=AWC66IMNQMNW&sprefix={}%2Caps%2C238&ref=nb_sb_noss'\n",
    "    search_term = search_term.replace(' ', '+')\n",
    "    url =  f'https://www.amazon.in/s?k={search_term}&crid=AWC66IMNQMNW&sprefix={search_term}%2Caps%2C238&ref=nb_sb_noss'\n",
    "    url += '&page={}'\n",
    "    \n",
    "    return url\n",
    "\n",
    "\n",
    "def extract_info(item):\n",
    "    \n",
    "    atag = item.h2.a\n",
    "    description = atag.text.strip()\n",
    "    url = 'https://www.amazon.in'+ atag.get('href')\n",
    "    \n",
    "    try:\n",
    "        parent_price = item.find('span', 'a-price')\n",
    "        price = parent_price.find('span', 'a-offscreen').text\n",
    "    except AttributeError:\n",
    "        price = 'Not Available'\n",
    "    \n",
    "    try:\n",
    "        rating = item.i.text\n",
    "        review_count = item.find('span', 'a-size-base').text\n",
    "    except AttributeError:\n",
    "        rating = ''\n",
    "        review_count = ''\n",
    "    \n",
    "    result = (description, price, rating, review_count, url)\n",
    "    \n",
    "    return result\n",
    "\n",
    "def main(search_term):\n",
    "    \n",
    "    options = EdgeOptions()\n",
    "    options.use_chromium = True\n",
    "    driver = webdriver.Edge(executable_path = r'C:\\Program Files (x86)\\Microsoft\\Edge Webdriver\\msedgedriver.exe')\n",
    "    \n",
    "    records = []\n",
    "    url = get_url(search_term)\n",
    "    \n",
    "    for page in range(1, 21):\n",
    "        driver.get(url.format(page))\n",
    "        soup = BeautifulSoup(driver.page_source, 'html.parser')\n",
    "        results = soup.find_all('div', {'data-component-type': 's-search-result'})\n",
    "        \n",
    "        for item in results:\n",
    "            record = extract_info(item)\n",
    "            if record:\n",
    "                records.append(record)\n",
    "                \n",
    "    driver.close()\n",
    "    \n",
    "    with open('scraped_data.csv', 'w', newline='', encoding='utf-8') as f:\n",
    "        writer = csv.writer(f)\n",
    "        writer.writerow(['Description', 'Price', 'Rating', 'Review Count', 'URL'])\n",
    "        writer.writerows(records)"
   ]
  },
  {
   "cell_type": "code",
   "execution_count": 65,
   "id": "6262e434",
   "metadata": {},
   "outputs": [],
   "source": [
    "main('wireless earphones')"
   ]
  },
  {
   "cell_type": "code",
   "execution_count": null,
   "id": "b3f08f4c",
   "metadata": {},
   "outputs": [],
   "source": []
  }
 ],
 "metadata": {
  "kernelspec": {
   "display_name": "Python 3",
   "language": "python",
   "name": "python3"
  },
  "language_info": {
   "codemirror_mode": {
    "name": "ipython",
    "version": 3
   },
   "file_extension": ".py",
   "mimetype": "text/x-python",
   "name": "python",
   "nbconvert_exporter": "python",
   "pygments_lexer": "ipython3",
   "version": "3.8.8"
  }
 },
 "nbformat": 4,
 "nbformat_minor": 5
}
